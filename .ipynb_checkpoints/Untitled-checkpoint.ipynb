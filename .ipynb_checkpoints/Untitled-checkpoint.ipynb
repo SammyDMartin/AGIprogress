{
 "cells": [
  {
   "cell_type": "code",
   "execution_count": null,
   "metadata": {},
   "outputs": [],
   "source": [
    "#Ultrarelativistic Travel vs FTL\n",
    "\n",
    "def distance_newton(a,t):\n",
    "    t_sec = t*3.154*10**7\n",
    "    a_ms = a * 9.80665\n",
    "    \n",
    "    d_metre = 0.5*a_ms*t_sec**2\n",
    "    \n",
    "    d_ly = d_metre/(9.461*10**15)\n",
    "    return d_ly"
   ]
  }
 ],
 "metadata": {
  "kernelspec": {
   "display_name": "Python 3",
   "language": "python",
   "name": "python3"
  },
  "language_info": {
   "codemirror_mode": {
    "name": "ipython",
    "version": 3
   },
   "file_extension": ".py",
   "mimetype": "text/x-python",
   "name": "python",
   "nbconvert_exporter": "python",
   "pygments_lexer": "ipython3",
   "version": "3.7.6"
  }
 },
 "nbformat": 4,
 "nbformat_minor": 4
}
